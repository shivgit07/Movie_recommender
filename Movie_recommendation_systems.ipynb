{
  "cells": [
    {
      "cell_type": "code",
      "execution_count": 1,
      "metadata": {
        "colab": {
          "base_uri": "https://localhost:8080/"
        },
        "id": "rFPuJjVWmCC1",
        "outputId": "d36d324e-8e0a-41b9-ea03-fb22b6873bcb"
      },
      "outputs": [
        {
          "output_type": "stream",
          "name": "stdout",
          "text": [
            "Collecting scikit-surprise\n",
            "  Downloading scikit-surprise-1.1.3.tar.gz (771 kB)\n",
            "\u001b[2K     \u001b[90m━━━━━━━━━━━━━━━━━━━━━━━━━━━━━━━━━━━━━━━━\u001b[0m \u001b[32m772.0/772.0 kB\u001b[0m \u001b[31m9.0 MB/s\u001b[0m eta \u001b[36m0:00:00\u001b[0m\n",
            "\u001b[?25h  Preparing metadata (setup.py) ... \u001b[?25l\u001b[?25hdone\n",
            "Requirement already satisfied: joblib>=1.0.0 in /usr/local/lib/python3.10/dist-packages (from scikit-surprise) (1.4.2)\n",
            "Requirement already satisfied: numpy>=1.17.3 in /usr/local/lib/python3.10/dist-packages (from scikit-surprise) (1.25.2)\n",
            "Requirement already satisfied: scipy>=1.3.2 in /usr/local/lib/python3.10/dist-packages (from scikit-surprise) (1.11.4)\n",
            "Building wheels for collected packages: scikit-surprise\n",
            "  Building wheel for scikit-surprise (setup.py) ... \u001b[?25l\u001b[?25hdone\n",
            "  Created wheel for scikit-surprise: filename=scikit_surprise-1.1.3-cp310-cp310-linux_x86_64.whl size=3162989 sha256=904d76c083a08c7606c3e45d2391cb52ad5e5805f5de14072ebacc771946c96f\n",
            "  Stored in directory: /root/.cache/pip/wheels/a5/ca/a8/4e28def53797fdc4363ca4af740db15a9c2f1595ebc51fb445\n",
            "Successfully built scikit-surprise\n",
            "Installing collected packages: scikit-surprise\n",
            "Successfully installed scikit-surprise-1.1.3\n"
          ]
        }
      ],
      "source": [
        "!pip install scikit-surprise"
      ]
    },
    {
      "cell_type": "markdown",
      "metadata": {
        "id": "r5UBcBT5nf_F"
      },
      "source": [
        "## Task 1: Creating Recommendation Systems\n"
      ]
    },
    {
      "cell_type": "code",
      "execution_count": 2,
      "metadata": {
        "id": "mChsx_ZmUn2O"
      },
      "outputs": [],
      "source": [
        "import pandas as pd\n",
        "import numpy as np\n",
        "from sklearn.feature_extraction.text import TfidfVectorizer\n",
        "from sklearn.metrics.pairwise import cosine_similarity\n",
        "\n",
        "from surprise import Dataset, Reader\n",
        "from surprise.model_selection import train_test_split\n",
        "from surprise import KNNBasic\n",
        "from surprise import accuracy"
      ]
    },
    {
      "cell_type": "markdown",
      "metadata": {
        "id": "4VDDkjxFma-a"
      },
      "source": [
        "### Content-Based Filtering (using movies.csv)"
      ]
    },
    {
      "cell_type": "code",
      "execution_count": 3,
      "metadata": {
        "id": "QSNf8H_bmSFC"
      },
      "outputs": [],
      "source": [
        "# Load movies data\n",
        "movies = pd.read_csv('movies.csv')\n"
      ]
    },
    {
      "cell_type": "code",
      "execution_count": 4,
      "metadata": {
        "colab": {
          "base_uri": "https://localhost:8080/",
          "height": 206
        },
        "id": "4OAMkPQHsSEn",
        "outputId": "ccb90c68-18c2-49de-8f53-b8360412f519"
      },
      "outputs": [
        {
          "output_type": "execute_result",
          "data": {
            "text/plain": [
              "   movieId                               title  \\\n",
              "0        1                    Toy Story (1995)   \n",
              "1        2                      Jumanji (1995)   \n",
              "2        3             Grumpier Old Men (1995)   \n",
              "3        4            Waiting to Exhale (1995)   \n",
              "4        5  Father of the Bride Part II (1995)   \n",
              "\n",
              "                                        genres  \n",
              "0  Adventure|Animation|Children|Comedy|Fantasy  \n",
              "1                   Adventure|Children|Fantasy  \n",
              "2                               Comedy|Romance  \n",
              "3                         Comedy|Drama|Romance  \n",
              "4                                       Comedy  "
            ],
            "text/html": [
              "\n",
              "  <div id=\"df-6de86ff5-8a5d-4cdf-89f6-11b911ef2d64\" class=\"colab-df-container\">\n",
              "    <div>\n",
              "<style scoped>\n",
              "    .dataframe tbody tr th:only-of-type {\n",
              "        vertical-align: middle;\n",
              "    }\n",
              "\n",
              "    .dataframe tbody tr th {\n",
              "        vertical-align: top;\n",
              "    }\n",
              "\n",
              "    .dataframe thead th {\n",
              "        text-align: right;\n",
              "    }\n",
              "</style>\n",
              "<table border=\"1\" class=\"dataframe\">\n",
              "  <thead>\n",
              "    <tr style=\"text-align: right;\">\n",
              "      <th></th>\n",
              "      <th>movieId</th>\n",
              "      <th>title</th>\n",
              "      <th>genres</th>\n",
              "    </tr>\n",
              "  </thead>\n",
              "  <tbody>\n",
              "    <tr>\n",
              "      <th>0</th>\n",
              "      <td>1</td>\n",
              "      <td>Toy Story (1995)</td>\n",
              "      <td>Adventure|Animation|Children|Comedy|Fantasy</td>\n",
              "    </tr>\n",
              "    <tr>\n",
              "      <th>1</th>\n",
              "      <td>2</td>\n",
              "      <td>Jumanji (1995)</td>\n",
              "      <td>Adventure|Children|Fantasy</td>\n",
              "    </tr>\n",
              "    <tr>\n",
              "      <th>2</th>\n",
              "      <td>3</td>\n",
              "      <td>Grumpier Old Men (1995)</td>\n",
              "      <td>Comedy|Romance</td>\n",
              "    </tr>\n",
              "    <tr>\n",
              "      <th>3</th>\n",
              "      <td>4</td>\n",
              "      <td>Waiting to Exhale (1995)</td>\n",
              "      <td>Comedy|Drama|Romance</td>\n",
              "    </tr>\n",
              "    <tr>\n",
              "      <th>4</th>\n",
              "      <td>5</td>\n",
              "      <td>Father of the Bride Part II (1995)</td>\n",
              "      <td>Comedy</td>\n",
              "    </tr>\n",
              "  </tbody>\n",
              "</table>\n",
              "</div>\n",
              "    <div class=\"colab-df-buttons\">\n",
              "\n",
              "  <div class=\"colab-df-container\">\n",
              "    <button class=\"colab-df-convert\" onclick=\"convertToInteractive('df-6de86ff5-8a5d-4cdf-89f6-11b911ef2d64')\"\n",
              "            title=\"Convert this dataframe to an interactive table.\"\n",
              "            style=\"display:none;\">\n",
              "\n",
              "  <svg xmlns=\"http://www.w3.org/2000/svg\" height=\"24px\" viewBox=\"0 -960 960 960\">\n",
              "    <path d=\"M120-120v-720h720v720H120Zm60-500h600v-160H180v160Zm220 220h160v-160H400v160Zm0 220h160v-160H400v160ZM180-400h160v-160H180v160Zm440 0h160v-160H620v160ZM180-180h160v-160H180v160Zm440 0h160v-160H620v160Z\"/>\n",
              "  </svg>\n",
              "    </button>\n",
              "\n",
              "  <style>\n",
              "    .colab-df-container {\n",
              "      display:flex;\n",
              "      gap: 12px;\n",
              "    }\n",
              "\n",
              "    .colab-df-convert {\n",
              "      background-color: #E8F0FE;\n",
              "      border: none;\n",
              "      border-radius: 50%;\n",
              "      cursor: pointer;\n",
              "      display: none;\n",
              "      fill: #1967D2;\n",
              "      height: 32px;\n",
              "      padding: 0 0 0 0;\n",
              "      width: 32px;\n",
              "    }\n",
              "\n",
              "    .colab-df-convert:hover {\n",
              "      background-color: #E2EBFA;\n",
              "      box-shadow: 0px 1px 2px rgba(60, 64, 67, 0.3), 0px 1px 3px 1px rgba(60, 64, 67, 0.15);\n",
              "      fill: #174EA6;\n",
              "    }\n",
              "\n",
              "    .colab-df-buttons div {\n",
              "      margin-bottom: 4px;\n",
              "    }\n",
              "\n",
              "    [theme=dark] .colab-df-convert {\n",
              "      background-color: #3B4455;\n",
              "      fill: #D2E3FC;\n",
              "    }\n",
              "\n",
              "    [theme=dark] .colab-df-convert:hover {\n",
              "      background-color: #434B5C;\n",
              "      box-shadow: 0px 1px 3px 1px rgba(0, 0, 0, 0.15);\n",
              "      filter: drop-shadow(0px 1px 2px rgba(0, 0, 0, 0.3));\n",
              "      fill: #FFFFFF;\n",
              "    }\n",
              "  </style>\n",
              "\n",
              "    <script>\n",
              "      const buttonEl =\n",
              "        document.querySelector('#df-6de86ff5-8a5d-4cdf-89f6-11b911ef2d64 button.colab-df-convert');\n",
              "      buttonEl.style.display =\n",
              "        google.colab.kernel.accessAllowed ? 'block' : 'none';\n",
              "\n",
              "      async function convertToInteractive(key) {\n",
              "        const element = document.querySelector('#df-6de86ff5-8a5d-4cdf-89f6-11b911ef2d64');\n",
              "        const dataTable =\n",
              "          await google.colab.kernel.invokeFunction('convertToInteractive',\n",
              "                                                    [key], {});\n",
              "        if (!dataTable) return;\n",
              "\n",
              "        const docLinkHtml = 'Like what you see? Visit the ' +\n",
              "          '<a target=\"_blank\" href=https://colab.research.google.com/notebooks/data_table.ipynb>data table notebook</a>'\n",
              "          + ' to learn more about interactive tables.';\n",
              "        element.innerHTML = '';\n",
              "        dataTable['output_type'] = 'display_data';\n",
              "        await google.colab.output.renderOutput(dataTable, element);\n",
              "        const docLink = document.createElement('div');\n",
              "        docLink.innerHTML = docLinkHtml;\n",
              "        element.appendChild(docLink);\n",
              "      }\n",
              "    </script>\n",
              "  </div>\n",
              "\n",
              "\n",
              "<div id=\"df-cfd797c5-3745-44e5-93f2-b4ee4eeab15b\">\n",
              "  <button class=\"colab-df-quickchart\" onclick=\"quickchart('df-cfd797c5-3745-44e5-93f2-b4ee4eeab15b')\"\n",
              "            title=\"Suggest charts\"\n",
              "            style=\"display:none;\">\n",
              "\n",
              "<svg xmlns=\"http://www.w3.org/2000/svg\" height=\"24px\"viewBox=\"0 0 24 24\"\n",
              "     width=\"24px\">\n",
              "    <g>\n",
              "        <path d=\"M19 3H5c-1.1 0-2 .9-2 2v14c0 1.1.9 2 2 2h14c1.1 0 2-.9 2-2V5c0-1.1-.9-2-2-2zM9 17H7v-7h2v7zm4 0h-2V7h2v10zm4 0h-2v-4h2v4z\"/>\n",
              "    </g>\n",
              "</svg>\n",
              "  </button>\n",
              "\n",
              "<style>\n",
              "  .colab-df-quickchart {\n",
              "      --bg-color: #E8F0FE;\n",
              "      --fill-color: #1967D2;\n",
              "      --hover-bg-color: #E2EBFA;\n",
              "      --hover-fill-color: #174EA6;\n",
              "      --disabled-fill-color: #AAA;\n",
              "      --disabled-bg-color: #DDD;\n",
              "  }\n",
              "\n",
              "  [theme=dark] .colab-df-quickchart {\n",
              "      --bg-color: #3B4455;\n",
              "      --fill-color: #D2E3FC;\n",
              "      --hover-bg-color: #434B5C;\n",
              "      --hover-fill-color: #FFFFFF;\n",
              "      --disabled-bg-color: #3B4455;\n",
              "      --disabled-fill-color: #666;\n",
              "  }\n",
              "\n",
              "  .colab-df-quickchart {\n",
              "    background-color: var(--bg-color);\n",
              "    border: none;\n",
              "    border-radius: 50%;\n",
              "    cursor: pointer;\n",
              "    display: none;\n",
              "    fill: var(--fill-color);\n",
              "    height: 32px;\n",
              "    padding: 0;\n",
              "    width: 32px;\n",
              "  }\n",
              "\n",
              "  .colab-df-quickchart:hover {\n",
              "    background-color: var(--hover-bg-color);\n",
              "    box-shadow: 0 1px 2px rgba(60, 64, 67, 0.3), 0 1px 3px 1px rgba(60, 64, 67, 0.15);\n",
              "    fill: var(--button-hover-fill-color);\n",
              "  }\n",
              "\n",
              "  .colab-df-quickchart-complete:disabled,\n",
              "  .colab-df-quickchart-complete:disabled:hover {\n",
              "    background-color: var(--disabled-bg-color);\n",
              "    fill: var(--disabled-fill-color);\n",
              "    box-shadow: none;\n",
              "  }\n",
              "\n",
              "  .colab-df-spinner {\n",
              "    border: 2px solid var(--fill-color);\n",
              "    border-color: transparent;\n",
              "    border-bottom-color: var(--fill-color);\n",
              "    animation:\n",
              "      spin 1s steps(1) infinite;\n",
              "  }\n",
              "\n",
              "  @keyframes spin {\n",
              "    0% {\n",
              "      border-color: transparent;\n",
              "      border-bottom-color: var(--fill-color);\n",
              "      border-left-color: var(--fill-color);\n",
              "    }\n",
              "    20% {\n",
              "      border-color: transparent;\n",
              "      border-left-color: var(--fill-color);\n",
              "      border-top-color: var(--fill-color);\n",
              "    }\n",
              "    30% {\n",
              "      border-color: transparent;\n",
              "      border-left-color: var(--fill-color);\n",
              "      border-top-color: var(--fill-color);\n",
              "      border-right-color: var(--fill-color);\n",
              "    }\n",
              "    40% {\n",
              "      border-color: transparent;\n",
              "      border-right-color: var(--fill-color);\n",
              "      border-top-color: var(--fill-color);\n",
              "    }\n",
              "    60% {\n",
              "      border-color: transparent;\n",
              "      border-right-color: var(--fill-color);\n",
              "    }\n",
              "    80% {\n",
              "      border-color: transparent;\n",
              "      border-right-color: var(--fill-color);\n",
              "      border-bottom-color: var(--fill-color);\n",
              "    }\n",
              "    90% {\n",
              "      border-color: transparent;\n",
              "      border-bottom-color: var(--fill-color);\n",
              "    }\n",
              "  }\n",
              "</style>\n",
              "\n",
              "  <script>\n",
              "    async function quickchart(key) {\n",
              "      const quickchartButtonEl =\n",
              "        document.querySelector('#' + key + ' button');\n",
              "      quickchartButtonEl.disabled = true;  // To prevent multiple clicks.\n",
              "      quickchartButtonEl.classList.add('colab-df-spinner');\n",
              "      try {\n",
              "        const charts = await google.colab.kernel.invokeFunction(\n",
              "            'suggestCharts', [key], {});\n",
              "      } catch (error) {\n",
              "        console.error('Error during call to suggestCharts:', error);\n",
              "      }\n",
              "      quickchartButtonEl.classList.remove('colab-df-spinner');\n",
              "      quickchartButtonEl.classList.add('colab-df-quickchart-complete');\n",
              "    }\n",
              "    (() => {\n",
              "      let quickchartButtonEl =\n",
              "        document.querySelector('#df-cfd797c5-3745-44e5-93f2-b4ee4eeab15b button');\n",
              "      quickchartButtonEl.style.display =\n",
              "        google.colab.kernel.accessAllowed ? 'block' : 'none';\n",
              "    })();\n",
              "  </script>\n",
              "</div>\n",
              "\n",
              "    </div>\n",
              "  </div>\n"
            ],
            "application/vnd.google.colaboratory.intrinsic+json": {
              "type": "dataframe",
              "variable_name": "movies",
              "summary": "{\n  \"name\": \"movies\",\n  \"rows\": 62423,\n  \"fields\": [\n    {\n      \"column\": \"movieId\",\n      \"properties\": {\n        \"dtype\": \"number\",\n        \"std\": 63264,\n        \"min\": 1,\n        \"max\": 209171,\n        \"num_unique_values\": 62423,\n        \"samples\": [\n          4990,\n          116698,\n          125517\n        ],\n        \"semantic_type\": \"\",\n        \"description\": \"\"\n      }\n    },\n    {\n      \"column\": \"title\",\n      \"properties\": {\n        \"dtype\": \"string\",\n        \"num_unique_values\": 62325,\n        \"samples\": [\n          \"So Dear to My Heart (1949)\",\n          \"Give Me Liberty (2019)\",\n          \"Vice (2015)\"\n        ],\n        \"semantic_type\": \"\",\n        \"description\": \"\"\n      }\n    },\n    {\n      \"column\": \"genres\",\n      \"properties\": {\n        \"dtype\": \"category\",\n        \"num_unique_values\": 1639,\n        \"samples\": [\n          \"Action|Adventure|Crime|Western\",\n          \"Action|Comedy|Drama|Romance|Thriller\",\n          \"Animation|Documentary|Drama|Fantasy\"\n        ],\n        \"semantic_type\": \"\",\n        \"description\": \"\"\n      }\n    }\n  ]\n}"
            }
          },
          "metadata": {},
          "execution_count": 4
        }
      ],
      "source": [
        "movies.head()"
      ]
    },
    {
      "cell_type": "code",
      "execution_count": 5,
      "metadata": {
        "colab": {
          "base_uri": "https://localhost:8080/"
        },
        "id": "G-mz_jAesVET",
        "outputId": "7486fc4b-6e81-4047-b737-be978bbdf069"
      },
      "outputs": [
        {
          "output_type": "stream",
          "name": "stdout",
          "text": [
            "<class 'pandas.core.frame.DataFrame'>\n",
            "RangeIndex: 62423 entries, 0 to 62422\n",
            "Data columns (total 3 columns):\n",
            " #   Column   Non-Null Count  Dtype \n",
            "---  ------   --------------  ----- \n",
            " 0   movieId  62423 non-null  int64 \n",
            " 1   title    62423 non-null  object\n",
            " 2   genres   62423 non-null  object\n",
            "dtypes: int64(1), object(2)\n",
            "memory usage: 1.4+ MB\n"
          ]
        }
      ],
      "source": [
        "movies.info()"
      ]
    },
    {
      "cell_type": "code",
      "execution_count": 6,
      "metadata": {
        "id": "OvxgqLhEtKmZ"
      },
      "outputs": [],
      "source": [
        "# Extract genres\n",
        "movies['genres'] = movies['genres'].apply(lambda x: x.split('|'))\n",
        "movies['genres'] = movies['genres'].apply(lambda x: ' '.join(x))\n",
        "\n",
        "# Load a subset of movies data\n",
        "# movies_subset = movies.head(10000)  # Using a smaller subset\n",
        "movies_subset = movies.head(20000)\n"
      ]
    },
    {
      "cell_type": "code",
      "execution_count": 7,
      "metadata": {
        "id": "oSKVlVK-sLMn"
      },
      "outputs": [],
      "source": [
        "# Initialize TF-IDF Vectorizer with sparse matrix output\n",
        "tfidf_vectorizer = TfidfVectorizer()\n",
        "tfidf_matrix = tfidf_vectorizer.fit_transform(movies_subset['genres'])\n",
        "\n",
        "# Calculate cosine similarity in batches\n",
        "batch_size = 100                        # Adjust as needed based on memory constraints\n",
        "num_movies = tfidf_matrix.shape[0]\n",
        "cosine_sim = []\n",
        "\n",
        "for start in range(0, num_movies, batch_size):\n",
        "    end = min(start + batch_size, num_movies)\n",
        "    cosine_batch = cosine_similarity(tfidf_matrix[start:end], tfidf_matrix)\n",
        "    cosine_sim.append(cosine_batch)\n",
        "\n",
        "# Concatenate cosine similarity batches\n",
        "cosine_sim = np.concatenate(cosine_sim, axis=0)\n"
      ]
    },
    {
      "cell_type": "markdown",
      "metadata": {
        "id": "XtAzybn_mgQt"
      },
      "source": [
        "### Collaborative Filtering (using ratings.csv)"
      ]
    },
    {
      "cell_type": "code",
      "execution_count": 8,
      "metadata": {
        "id": "s6GzwKz1l37b"
      },
      "outputs": [],
      "source": [
        "# Load ratings data\n",
        "ratings = pd.read_csv('ratings.csv')"
      ]
    },
    {
      "cell_type": "code",
      "execution_count": 9,
      "metadata": {
        "colab": {
          "base_uri": "https://localhost:8080/",
          "height": 206
        },
        "id": "Y8dpDN9fswHH",
        "outputId": "b9c2d906-e596-4f84-9c28-13b6b6a01bd4"
      },
      "outputs": [
        {
          "output_type": "execute_result",
          "data": {
            "text/plain": [
              "   userId  movieId  rating     timestamp\n",
              "0       1      296     5.0  1.147880e+09\n",
              "1       1      306     3.5  1.147869e+09\n",
              "2       1      307     5.0  1.147869e+09\n",
              "3       1      665     5.0  1.147879e+09\n",
              "4       1      899     3.5  1.147869e+09"
            ],
            "text/html": [
              "\n",
              "  <div id=\"df-65642740-d710-45eb-812b-57904ed331c0\" class=\"colab-df-container\">\n",
              "    <div>\n",
              "<style scoped>\n",
              "    .dataframe tbody tr th:only-of-type {\n",
              "        vertical-align: middle;\n",
              "    }\n",
              "\n",
              "    .dataframe tbody tr th {\n",
              "        vertical-align: top;\n",
              "    }\n",
              "\n",
              "    .dataframe thead th {\n",
              "        text-align: right;\n",
              "    }\n",
              "</style>\n",
              "<table border=\"1\" class=\"dataframe\">\n",
              "  <thead>\n",
              "    <tr style=\"text-align: right;\">\n",
              "      <th></th>\n",
              "      <th>userId</th>\n",
              "      <th>movieId</th>\n",
              "      <th>rating</th>\n",
              "      <th>timestamp</th>\n",
              "    </tr>\n",
              "  </thead>\n",
              "  <tbody>\n",
              "    <tr>\n",
              "      <th>0</th>\n",
              "      <td>1</td>\n",
              "      <td>296</td>\n",
              "      <td>5.0</td>\n",
              "      <td>1.147880e+09</td>\n",
              "    </tr>\n",
              "    <tr>\n",
              "      <th>1</th>\n",
              "      <td>1</td>\n",
              "      <td>306</td>\n",
              "      <td>3.5</td>\n",
              "      <td>1.147869e+09</td>\n",
              "    </tr>\n",
              "    <tr>\n",
              "      <th>2</th>\n",
              "      <td>1</td>\n",
              "      <td>307</td>\n",
              "      <td>5.0</td>\n",
              "      <td>1.147869e+09</td>\n",
              "    </tr>\n",
              "    <tr>\n",
              "      <th>3</th>\n",
              "      <td>1</td>\n",
              "      <td>665</td>\n",
              "      <td>5.0</td>\n",
              "      <td>1.147879e+09</td>\n",
              "    </tr>\n",
              "    <tr>\n",
              "      <th>4</th>\n",
              "      <td>1</td>\n",
              "      <td>899</td>\n",
              "      <td>3.5</td>\n",
              "      <td>1.147869e+09</td>\n",
              "    </tr>\n",
              "  </tbody>\n",
              "</table>\n",
              "</div>\n",
              "    <div class=\"colab-df-buttons\">\n",
              "\n",
              "  <div class=\"colab-df-container\">\n",
              "    <button class=\"colab-df-convert\" onclick=\"convertToInteractive('df-65642740-d710-45eb-812b-57904ed331c0')\"\n",
              "            title=\"Convert this dataframe to an interactive table.\"\n",
              "            style=\"display:none;\">\n",
              "\n",
              "  <svg xmlns=\"http://www.w3.org/2000/svg\" height=\"24px\" viewBox=\"0 -960 960 960\">\n",
              "    <path d=\"M120-120v-720h720v720H120Zm60-500h600v-160H180v160Zm220 220h160v-160H400v160Zm0 220h160v-160H400v160ZM180-400h160v-160H180v160Zm440 0h160v-160H620v160ZM180-180h160v-160H180v160Zm440 0h160v-160H620v160Z\"/>\n",
              "  </svg>\n",
              "    </button>\n",
              "\n",
              "  <style>\n",
              "    .colab-df-container {\n",
              "      display:flex;\n",
              "      gap: 12px;\n",
              "    }\n",
              "\n",
              "    .colab-df-convert {\n",
              "      background-color: #E8F0FE;\n",
              "      border: none;\n",
              "      border-radius: 50%;\n",
              "      cursor: pointer;\n",
              "      display: none;\n",
              "      fill: #1967D2;\n",
              "      height: 32px;\n",
              "      padding: 0 0 0 0;\n",
              "      width: 32px;\n",
              "    }\n",
              "\n",
              "    .colab-df-convert:hover {\n",
              "      background-color: #E2EBFA;\n",
              "      box-shadow: 0px 1px 2px rgba(60, 64, 67, 0.3), 0px 1px 3px 1px rgba(60, 64, 67, 0.15);\n",
              "      fill: #174EA6;\n",
              "    }\n",
              "\n",
              "    .colab-df-buttons div {\n",
              "      margin-bottom: 4px;\n",
              "    }\n",
              "\n",
              "    [theme=dark] .colab-df-convert {\n",
              "      background-color: #3B4455;\n",
              "      fill: #D2E3FC;\n",
              "    }\n",
              "\n",
              "    [theme=dark] .colab-df-convert:hover {\n",
              "      background-color: #434B5C;\n",
              "      box-shadow: 0px 1px 3px 1px rgba(0, 0, 0, 0.15);\n",
              "      filter: drop-shadow(0px 1px 2px rgba(0, 0, 0, 0.3));\n",
              "      fill: #FFFFFF;\n",
              "    }\n",
              "  </style>\n",
              "\n",
              "    <script>\n",
              "      const buttonEl =\n",
              "        document.querySelector('#df-65642740-d710-45eb-812b-57904ed331c0 button.colab-df-convert');\n",
              "      buttonEl.style.display =\n",
              "        google.colab.kernel.accessAllowed ? 'block' : 'none';\n",
              "\n",
              "      async function convertToInteractive(key) {\n",
              "        const element = document.querySelector('#df-65642740-d710-45eb-812b-57904ed331c0');\n",
              "        const dataTable =\n",
              "          await google.colab.kernel.invokeFunction('convertToInteractive',\n",
              "                                                    [key], {});\n",
              "        if (!dataTable) return;\n",
              "\n",
              "        const docLinkHtml = 'Like what you see? Visit the ' +\n",
              "          '<a target=\"_blank\" href=https://colab.research.google.com/notebooks/data_table.ipynb>data table notebook</a>'\n",
              "          + ' to learn more about interactive tables.';\n",
              "        element.innerHTML = '';\n",
              "        dataTable['output_type'] = 'display_data';\n",
              "        await google.colab.output.renderOutput(dataTable, element);\n",
              "        const docLink = document.createElement('div');\n",
              "        docLink.innerHTML = docLinkHtml;\n",
              "        element.appendChild(docLink);\n",
              "      }\n",
              "    </script>\n",
              "  </div>\n",
              "\n",
              "\n",
              "<div id=\"df-a04c9d8a-a551-4217-bf35-95db87d6ab8d\">\n",
              "  <button class=\"colab-df-quickchart\" onclick=\"quickchart('df-a04c9d8a-a551-4217-bf35-95db87d6ab8d')\"\n",
              "            title=\"Suggest charts\"\n",
              "            style=\"display:none;\">\n",
              "\n",
              "<svg xmlns=\"http://www.w3.org/2000/svg\" height=\"24px\"viewBox=\"0 0 24 24\"\n",
              "     width=\"24px\">\n",
              "    <g>\n",
              "        <path d=\"M19 3H5c-1.1 0-2 .9-2 2v14c0 1.1.9 2 2 2h14c1.1 0 2-.9 2-2V5c0-1.1-.9-2-2-2zM9 17H7v-7h2v7zm4 0h-2V7h2v10zm4 0h-2v-4h2v4z\"/>\n",
              "    </g>\n",
              "</svg>\n",
              "  </button>\n",
              "\n",
              "<style>\n",
              "  .colab-df-quickchart {\n",
              "      --bg-color: #E8F0FE;\n",
              "      --fill-color: #1967D2;\n",
              "      --hover-bg-color: #E2EBFA;\n",
              "      --hover-fill-color: #174EA6;\n",
              "      --disabled-fill-color: #AAA;\n",
              "      --disabled-bg-color: #DDD;\n",
              "  }\n",
              "\n",
              "  [theme=dark] .colab-df-quickchart {\n",
              "      --bg-color: #3B4455;\n",
              "      --fill-color: #D2E3FC;\n",
              "      --hover-bg-color: #434B5C;\n",
              "      --hover-fill-color: #FFFFFF;\n",
              "      --disabled-bg-color: #3B4455;\n",
              "      --disabled-fill-color: #666;\n",
              "  }\n",
              "\n",
              "  .colab-df-quickchart {\n",
              "    background-color: var(--bg-color);\n",
              "    border: none;\n",
              "    border-radius: 50%;\n",
              "    cursor: pointer;\n",
              "    display: none;\n",
              "    fill: var(--fill-color);\n",
              "    height: 32px;\n",
              "    padding: 0;\n",
              "    width: 32px;\n",
              "  }\n",
              "\n",
              "  .colab-df-quickchart:hover {\n",
              "    background-color: var(--hover-bg-color);\n",
              "    box-shadow: 0 1px 2px rgba(60, 64, 67, 0.3), 0 1px 3px 1px rgba(60, 64, 67, 0.15);\n",
              "    fill: var(--button-hover-fill-color);\n",
              "  }\n",
              "\n",
              "  .colab-df-quickchart-complete:disabled,\n",
              "  .colab-df-quickchart-complete:disabled:hover {\n",
              "    background-color: var(--disabled-bg-color);\n",
              "    fill: var(--disabled-fill-color);\n",
              "    box-shadow: none;\n",
              "  }\n",
              "\n",
              "  .colab-df-spinner {\n",
              "    border: 2px solid var(--fill-color);\n",
              "    border-color: transparent;\n",
              "    border-bottom-color: var(--fill-color);\n",
              "    animation:\n",
              "      spin 1s steps(1) infinite;\n",
              "  }\n",
              "\n",
              "  @keyframes spin {\n",
              "    0% {\n",
              "      border-color: transparent;\n",
              "      border-bottom-color: var(--fill-color);\n",
              "      border-left-color: var(--fill-color);\n",
              "    }\n",
              "    20% {\n",
              "      border-color: transparent;\n",
              "      border-left-color: var(--fill-color);\n",
              "      border-top-color: var(--fill-color);\n",
              "    }\n",
              "    30% {\n",
              "      border-color: transparent;\n",
              "      border-left-color: var(--fill-color);\n",
              "      border-top-color: var(--fill-color);\n",
              "      border-right-color: var(--fill-color);\n",
              "    }\n",
              "    40% {\n",
              "      border-color: transparent;\n",
              "      border-right-color: var(--fill-color);\n",
              "      border-top-color: var(--fill-color);\n",
              "    }\n",
              "    60% {\n",
              "      border-color: transparent;\n",
              "      border-right-color: var(--fill-color);\n",
              "    }\n",
              "    80% {\n",
              "      border-color: transparent;\n",
              "      border-right-color: var(--fill-color);\n",
              "      border-bottom-color: var(--fill-color);\n",
              "    }\n",
              "    90% {\n",
              "      border-color: transparent;\n",
              "      border-bottom-color: var(--fill-color);\n",
              "    }\n",
              "  }\n",
              "</style>\n",
              "\n",
              "  <script>\n",
              "    async function quickchart(key) {\n",
              "      const quickchartButtonEl =\n",
              "        document.querySelector('#' + key + ' button');\n",
              "      quickchartButtonEl.disabled = true;  // To prevent multiple clicks.\n",
              "      quickchartButtonEl.classList.add('colab-df-spinner');\n",
              "      try {\n",
              "        const charts = await google.colab.kernel.invokeFunction(\n",
              "            'suggestCharts', [key], {});\n",
              "      } catch (error) {\n",
              "        console.error('Error during call to suggestCharts:', error);\n",
              "      }\n",
              "      quickchartButtonEl.classList.remove('colab-df-spinner');\n",
              "      quickchartButtonEl.classList.add('colab-df-quickchart-complete');\n",
              "    }\n",
              "    (() => {\n",
              "      let quickchartButtonEl =\n",
              "        document.querySelector('#df-a04c9d8a-a551-4217-bf35-95db87d6ab8d button');\n",
              "      quickchartButtonEl.style.display =\n",
              "        google.colab.kernel.accessAllowed ? 'block' : 'none';\n",
              "    })();\n",
              "  </script>\n",
              "</div>\n",
              "\n",
              "    </div>\n",
              "  </div>\n"
            ],
            "application/vnd.google.colaboratory.intrinsic+json": {
              "type": "dataframe",
              "variable_name": "ratings"
            }
          },
          "metadata": {},
          "execution_count": 9
        }
      ],
      "source": [
        "ratings.head()"
      ]
    },
    {
      "cell_type": "code",
      "execution_count": 10,
      "metadata": {
        "colab": {
          "base_uri": "https://localhost:8080/"
        },
        "id": "Tkv59HYbswBb",
        "outputId": "f4666d0c-c8d2-42c9-b75d-137530f924ea"
      },
      "outputs": [
        {
          "output_type": "stream",
          "name": "stdout",
          "text": [
            "<class 'pandas.core.frame.DataFrame'>\n",
            "RangeIndex: 5339064 entries, 0 to 5339063\n",
            "Data columns (total 4 columns):\n",
            " #   Column     Dtype  \n",
            "---  ------     -----  \n",
            " 0   userId     int64  \n",
            " 1   movieId    int64  \n",
            " 2   rating     float64\n",
            " 3   timestamp  float64\n",
            "dtypes: float64(2), int64(2)\n",
            "memory usage: 162.9 MB\n"
          ]
        }
      ],
      "source": [
        "ratings.info()"
      ]
    },
    {
      "cell_type": "code",
      "execution_count": 11,
      "metadata": {
        "colab": {
          "base_uri": "https://localhost:8080/"
        },
        "id": "nuM9IGjehCBk",
        "outputId": "7b67c508-e172-4e8c-c419-0408fed8fcef"
      },
      "outputs": [
        {
          "output_type": "execute_result",
          "data": {
            "text/plain": [
              "(5339064, 4)"
            ]
          },
          "metadata": {},
          "execution_count": 11
        }
      ],
      "source": [
        "ratings.shape"
      ]
    },
    {
      "cell_type": "code",
      "execution_count": 12,
      "metadata": {
        "id": "WJQIiisfsfS8"
      },
      "outputs": [],
      "source": [
        "ratings_subset = ratings.head(20000)  # Use a smaller subset for testing\n",
        "\n",
        "# Define the Reader object\n",
        "reader = Reader(rating_scale=(0.5, 5))\n",
        "\n",
        "# Load data from DataFrame into Dataset object\n",
        "data = Dataset.load_from_df(ratings_subset[['userId', 'movieId', 'rating']], reader)\n",
        "\n",
        "# Split the dataset into train and test sets\n",
        "trainset, testset = train_test_split(data, test_size=0.2)"
      ]
    },
    {
      "cell_type": "code",
      "source": [
        "# Convert trainset to Pandas DataFrame\n",
        "df_ratings = pd.DataFrame(trainset.all_ratings(), columns=['user_id', 'item_id', 'rating'])\n",
        "df_ratings.head()"
      ],
      "metadata": {
        "colab": {
          "base_uri": "https://localhost:8080/",
          "height": 206
        },
        "id": "UUWr-7YpoINh",
        "outputId": "855619a8-314c-40e8-9b6e-8ac164b7333b"
      },
      "execution_count": 13,
      "outputs": [
        {
          "output_type": "execute_result",
          "data": {
            "text/plain": [
              "   user_id  item_id  rating\n",
              "0        0        0     4.0\n",
              "1        0      524     3.0\n",
              "2        0      528     4.0\n",
              "3        0      822     3.5\n",
              "4        0      845     4.5"
            ],
            "text/html": [
              "\n",
              "  <div id=\"df-3d60a5ec-a897-4034-8b98-685980ebe086\" class=\"colab-df-container\">\n",
              "    <div>\n",
              "<style scoped>\n",
              "    .dataframe tbody tr th:only-of-type {\n",
              "        vertical-align: middle;\n",
              "    }\n",
              "\n",
              "    .dataframe tbody tr th {\n",
              "        vertical-align: top;\n",
              "    }\n",
              "\n",
              "    .dataframe thead th {\n",
              "        text-align: right;\n",
              "    }\n",
              "</style>\n",
              "<table border=\"1\" class=\"dataframe\">\n",
              "  <thead>\n",
              "    <tr style=\"text-align: right;\">\n",
              "      <th></th>\n",
              "      <th>user_id</th>\n",
              "      <th>item_id</th>\n",
              "      <th>rating</th>\n",
              "    </tr>\n",
              "  </thead>\n",
              "  <tbody>\n",
              "    <tr>\n",
              "      <th>0</th>\n",
              "      <td>0</td>\n",
              "      <td>0</td>\n",
              "      <td>4.0</td>\n",
              "    </tr>\n",
              "    <tr>\n",
              "      <th>1</th>\n",
              "      <td>0</td>\n",
              "      <td>524</td>\n",
              "      <td>3.0</td>\n",
              "    </tr>\n",
              "    <tr>\n",
              "      <th>2</th>\n",
              "      <td>0</td>\n",
              "      <td>528</td>\n",
              "      <td>4.0</td>\n",
              "    </tr>\n",
              "    <tr>\n",
              "      <th>3</th>\n",
              "      <td>0</td>\n",
              "      <td>822</td>\n",
              "      <td>3.5</td>\n",
              "    </tr>\n",
              "    <tr>\n",
              "      <th>4</th>\n",
              "      <td>0</td>\n",
              "      <td>845</td>\n",
              "      <td>4.5</td>\n",
              "    </tr>\n",
              "  </tbody>\n",
              "</table>\n",
              "</div>\n",
              "    <div class=\"colab-df-buttons\">\n",
              "\n",
              "  <div class=\"colab-df-container\">\n",
              "    <button class=\"colab-df-convert\" onclick=\"convertToInteractive('df-3d60a5ec-a897-4034-8b98-685980ebe086')\"\n",
              "            title=\"Convert this dataframe to an interactive table.\"\n",
              "            style=\"display:none;\">\n",
              "\n",
              "  <svg xmlns=\"http://www.w3.org/2000/svg\" height=\"24px\" viewBox=\"0 -960 960 960\">\n",
              "    <path d=\"M120-120v-720h720v720H120Zm60-500h600v-160H180v160Zm220 220h160v-160H400v160Zm0 220h160v-160H400v160ZM180-400h160v-160H180v160Zm440 0h160v-160H620v160ZM180-180h160v-160H180v160Zm440 0h160v-160H620v160Z\"/>\n",
              "  </svg>\n",
              "    </button>\n",
              "\n",
              "  <style>\n",
              "    .colab-df-container {\n",
              "      display:flex;\n",
              "      gap: 12px;\n",
              "    }\n",
              "\n",
              "    .colab-df-convert {\n",
              "      background-color: #E8F0FE;\n",
              "      border: none;\n",
              "      border-radius: 50%;\n",
              "      cursor: pointer;\n",
              "      display: none;\n",
              "      fill: #1967D2;\n",
              "      height: 32px;\n",
              "      padding: 0 0 0 0;\n",
              "      width: 32px;\n",
              "    }\n",
              "\n",
              "    .colab-df-convert:hover {\n",
              "      background-color: #E2EBFA;\n",
              "      box-shadow: 0px 1px 2px rgba(60, 64, 67, 0.3), 0px 1px 3px 1px rgba(60, 64, 67, 0.15);\n",
              "      fill: #174EA6;\n",
              "    }\n",
              "\n",
              "    .colab-df-buttons div {\n",
              "      margin-bottom: 4px;\n",
              "    }\n",
              "\n",
              "    [theme=dark] .colab-df-convert {\n",
              "      background-color: #3B4455;\n",
              "      fill: #D2E3FC;\n",
              "    }\n",
              "\n",
              "    [theme=dark] .colab-df-convert:hover {\n",
              "      background-color: #434B5C;\n",
              "      box-shadow: 0px 1px 3px 1px rgba(0, 0, 0, 0.15);\n",
              "      filter: drop-shadow(0px 1px 2px rgba(0, 0, 0, 0.3));\n",
              "      fill: #FFFFFF;\n",
              "    }\n",
              "  </style>\n",
              "\n",
              "    <script>\n",
              "      const buttonEl =\n",
              "        document.querySelector('#df-3d60a5ec-a897-4034-8b98-685980ebe086 button.colab-df-convert');\n",
              "      buttonEl.style.display =\n",
              "        google.colab.kernel.accessAllowed ? 'block' : 'none';\n",
              "\n",
              "      async function convertToInteractive(key) {\n",
              "        const element = document.querySelector('#df-3d60a5ec-a897-4034-8b98-685980ebe086');\n",
              "        const dataTable =\n",
              "          await google.colab.kernel.invokeFunction('convertToInteractive',\n",
              "                                                    [key], {});\n",
              "        if (!dataTable) return;\n",
              "\n",
              "        const docLinkHtml = 'Like what you see? Visit the ' +\n",
              "          '<a target=\"_blank\" href=https://colab.research.google.com/notebooks/data_table.ipynb>data table notebook</a>'\n",
              "          + ' to learn more about interactive tables.';\n",
              "        element.innerHTML = '';\n",
              "        dataTable['output_type'] = 'display_data';\n",
              "        await google.colab.output.renderOutput(dataTable, element);\n",
              "        const docLink = document.createElement('div');\n",
              "        docLink.innerHTML = docLinkHtml;\n",
              "        element.appendChild(docLink);\n",
              "      }\n",
              "    </script>\n",
              "  </div>\n",
              "\n",
              "\n",
              "<div id=\"df-112e9306-768c-4336-9de8-02b2dc27a6e4\">\n",
              "  <button class=\"colab-df-quickchart\" onclick=\"quickchart('df-112e9306-768c-4336-9de8-02b2dc27a6e4')\"\n",
              "            title=\"Suggest charts\"\n",
              "            style=\"display:none;\">\n",
              "\n",
              "<svg xmlns=\"http://www.w3.org/2000/svg\" height=\"24px\"viewBox=\"0 0 24 24\"\n",
              "     width=\"24px\">\n",
              "    <g>\n",
              "        <path d=\"M19 3H5c-1.1 0-2 .9-2 2v14c0 1.1.9 2 2 2h14c1.1 0 2-.9 2-2V5c0-1.1-.9-2-2-2zM9 17H7v-7h2v7zm4 0h-2V7h2v10zm4 0h-2v-4h2v4z\"/>\n",
              "    </g>\n",
              "</svg>\n",
              "  </button>\n",
              "\n",
              "<style>\n",
              "  .colab-df-quickchart {\n",
              "      --bg-color: #E8F0FE;\n",
              "      --fill-color: #1967D2;\n",
              "      --hover-bg-color: #E2EBFA;\n",
              "      --hover-fill-color: #174EA6;\n",
              "      --disabled-fill-color: #AAA;\n",
              "      --disabled-bg-color: #DDD;\n",
              "  }\n",
              "\n",
              "  [theme=dark] .colab-df-quickchart {\n",
              "      --bg-color: #3B4455;\n",
              "      --fill-color: #D2E3FC;\n",
              "      --hover-bg-color: #434B5C;\n",
              "      --hover-fill-color: #FFFFFF;\n",
              "      --disabled-bg-color: #3B4455;\n",
              "      --disabled-fill-color: #666;\n",
              "  }\n",
              "\n",
              "  .colab-df-quickchart {\n",
              "    background-color: var(--bg-color);\n",
              "    border: none;\n",
              "    border-radius: 50%;\n",
              "    cursor: pointer;\n",
              "    display: none;\n",
              "    fill: var(--fill-color);\n",
              "    height: 32px;\n",
              "    padding: 0;\n",
              "    width: 32px;\n",
              "  }\n",
              "\n",
              "  .colab-df-quickchart:hover {\n",
              "    background-color: var(--hover-bg-color);\n",
              "    box-shadow: 0 1px 2px rgba(60, 64, 67, 0.3), 0 1px 3px 1px rgba(60, 64, 67, 0.15);\n",
              "    fill: var(--button-hover-fill-color);\n",
              "  }\n",
              "\n",
              "  .colab-df-quickchart-complete:disabled,\n",
              "  .colab-df-quickchart-complete:disabled:hover {\n",
              "    background-color: var(--disabled-bg-color);\n",
              "    fill: var(--disabled-fill-color);\n",
              "    box-shadow: none;\n",
              "  }\n",
              "\n",
              "  .colab-df-spinner {\n",
              "    border: 2px solid var(--fill-color);\n",
              "    border-color: transparent;\n",
              "    border-bottom-color: var(--fill-color);\n",
              "    animation:\n",
              "      spin 1s steps(1) infinite;\n",
              "  }\n",
              "\n",
              "  @keyframes spin {\n",
              "    0% {\n",
              "      border-color: transparent;\n",
              "      border-bottom-color: var(--fill-color);\n",
              "      border-left-color: var(--fill-color);\n",
              "    }\n",
              "    20% {\n",
              "      border-color: transparent;\n",
              "      border-left-color: var(--fill-color);\n",
              "      border-top-color: var(--fill-color);\n",
              "    }\n",
              "    30% {\n",
              "      border-color: transparent;\n",
              "      border-left-color: var(--fill-color);\n",
              "      border-top-color: var(--fill-color);\n",
              "      border-right-color: var(--fill-color);\n",
              "    }\n",
              "    40% {\n",
              "      border-color: transparent;\n",
              "      border-right-color: var(--fill-color);\n",
              "      border-top-color: var(--fill-color);\n",
              "    }\n",
              "    60% {\n",
              "      border-color: transparent;\n",
              "      border-right-color: var(--fill-color);\n",
              "    }\n",
              "    80% {\n",
              "      border-color: transparent;\n",
              "      border-right-color: var(--fill-color);\n",
              "      border-bottom-color: var(--fill-color);\n",
              "    }\n",
              "    90% {\n",
              "      border-color: transparent;\n",
              "      border-bottom-color: var(--fill-color);\n",
              "    }\n",
              "  }\n",
              "</style>\n",
              "\n",
              "  <script>\n",
              "    async function quickchart(key) {\n",
              "      const quickchartButtonEl =\n",
              "        document.querySelector('#' + key + ' button');\n",
              "      quickchartButtonEl.disabled = true;  // To prevent multiple clicks.\n",
              "      quickchartButtonEl.classList.add('colab-df-spinner');\n",
              "      try {\n",
              "        const charts = await google.colab.kernel.invokeFunction(\n",
              "            'suggestCharts', [key], {});\n",
              "      } catch (error) {\n",
              "        console.error('Error during call to suggestCharts:', error);\n",
              "      }\n",
              "      quickchartButtonEl.classList.remove('colab-df-spinner');\n",
              "      quickchartButtonEl.classList.add('colab-df-quickchart-complete');\n",
              "    }\n",
              "    (() => {\n",
              "      let quickchartButtonEl =\n",
              "        document.querySelector('#df-112e9306-768c-4336-9de8-02b2dc27a6e4 button');\n",
              "      quickchartButtonEl.style.display =\n",
              "        google.colab.kernel.accessAllowed ? 'block' : 'none';\n",
              "    })();\n",
              "  </script>\n",
              "</div>\n",
              "\n",
              "    </div>\n",
              "  </div>\n"
            ],
            "application/vnd.google.colaboratory.intrinsic+json": {
              "type": "dataframe",
              "variable_name": "df_ratings",
              "summary": "{\n  \"name\": \"df_ratings\",\n  \"rows\": 16000,\n  \"fields\": [\n    {\n      \"column\": \"user_id\",\n      \"properties\": {\n        \"dtype\": \"number\",\n        \"std\": 42,\n        \"min\": 0,\n        \"max\": 165,\n        \"num_unique_values\": 166,\n        \"samples\": [\n          100,\n          136,\n          78\n        ],\n        \"semantic_type\": \"\",\n        \"description\": \"\"\n      }\n    },\n    {\n      \"column\": \"item_id\",\n      \"properties\": {\n        \"dtype\": \"number\",\n        \"std\": 1021,\n        \"min\": 0,\n        \"max\": 4000,\n        \"num_unique_values\": 4001,\n        \"samples\": [\n          1832,\n          3215,\n          229\n        ],\n        \"semantic_type\": \"\",\n        \"description\": \"\"\n      }\n    },\n    {\n      \"column\": \"rating\",\n      \"properties\": {\n        \"dtype\": \"number\",\n        \"std\": 1.0128124910835266,\n        \"min\": 0.5,\n        \"max\": 5.0,\n        \"num_unique_values\": 10,\n        \"samples\": [\n          1.0,\n          3.0,\n          5.0\n        ],\n        \"semantic_type\": \"\",\n        \"description\": \"\"\n      }\n    }\n  ]\n}"
            }
          },
          "metadata": {},
          "execution_count": 13
        }
      ]
    },
    {
      "cell_type": "code",
      "execution_count": 14,
      "metadata": {
        "colab": {
          "base_uri": "https://localhost:8080/"
        },
        "id": "isQWNt94sfMI",
        "outputId": "268a9651-a0e9-4a29-85df-5cce5ff9eb59"
      },
      "outputs": [
        {
          "output_type": "stream",
          "name": "stdout",
          "text": [
            "Computing the cosine similarity matrix...\n",
            "Done computing similarity matrix.\n"
          ]
        },
        {
          "output_type": "execute_result",
          "data": {
            "text/plain": [
              "<surprise.prediction_algorithms.knns.KNNBasic at 0x7b0ad07d4400>"
            ]
          },
          "metadata": {},
          "execution_count": 14
        }
      ],
      "source": [
        "# Use a basic collaborative filtering algorithm\n",
        "sim_options = {\n",
        "    'name': 'cosine',\n",
        "    'user_based': True\n",
        "}\n",
        "\n",
        "model = KNNBasic(sim_options=sim_options)\n",
        "model.fit(trainset)\n"
      ]
    },
    {
      "cell_type": "markdown",
      "metadata": {
        "id": "IH9iD4rYmsR4"
      },
      "source": [
        "## Task 2: Generating Recommendations"
      ]
    },
    {
      "cell_type": "markdown",
      "metadata": {
        "id": "_7WnGYtQmsAa"
      },
      "source": [
        "### Content-Based Recommendations"
      ]
    },
    {
      "cell_type": "markdown",
      "source": [
        "* Defines a function named get_recommendations that takes movie_title, cosine_sim, and movies as input parameters.\n",
        "\n",
        "* Finds the index of the input movie_title and Retrieves the genre of the input movie_title from the movies DataFrame\n",
        "\n",
        "* Retrieves the precomputed cosine similarity scores and Sorts the similarity scores in descending order based on the cosine similarity value\n",
        "\n",
        "* Retrieves the top 10 similar movies (excluding the input movie itself) using sim_scores = sim_scores[1:11]."
      ],
      "metadata": {
        "id": "LAseuxSA9RHc"
      }
    },
    {
      "cell_type": "code",
      "execution_count": 15,
      "metadata": {
        "id": "P_fvefkdsLHM"
      },
      "outputs": [],
      "source": [
        "def get_recommendations(movie_title, cosine_sim=cosine_sim, movies=movies):\n",
        "    # Get movie index\n",
        "    movie_index = movies[movies['title'] == movie_title].index[0]\n",
        "\n",
        "    # Get movie genre\n",
        "    movie_genre = movies.loc[movie_index, 'genres']\n",
        "    print(f\"Genre of '{movie_title}': {movie_genre}\")\n",
        "    print(\"\")\n",
        "\n",
        "    # Get similarity scores for the movie\n",
        "    sim_scores = list(enumerate(cosine_sim[movie_index]))\n",
        "    sim_scores = sorted(sim_scores, key=lambda x: x[1], reverse=True)\n",
        "    sim_scores = sim_scores[1:11]  # Top 10 similar movies\n",
        "\n",
        "    # Get indices of recommended movies\n",
        "    recommended_movie_indices = [i[0] for i in sim_scores]\n",
        "\n",
        "    # Print recommended movies\n",
        "    print(\"Recommended Movies:\")\n",
        "    for idx, movie_idx in enumerate(recommended_movie_indices, 1):\n",
        "        recommended_movie_title = movies.loc[movie_idx, 'title']\n",
        "        # recommended_movie_genre = movies.loc[movie_idx, 'genres']\n",
        "        print(f\"{idx}. {recommended_movie_title}\")\n"
      ]
    },
    {
      "cell_type": "code",
      "execution_count": 16,
      "metadata": {
        "colab": {
          "base_uri": "https://localhost:8080/"
        },
        "id": "njVeLx2uf1nl",
        "outputId": "484e24d2-ea9e-4c59-bf39-f8b6fcc0a7a3"
      },
      "outputs": [
        {
          "output_type": "stream",
          "name": "stdout",
          "text": [
            "Genre of 'Toy Story (1995)': Adventure Animation Children Comedy Fantasy\n",
            "\n",
            "Recommended Movies:\n",
            "1. Antz (1998)\n",
            "2. Toy Story 2 (1999)\n",
            "3. Adventures of Rocky and Bullwinkle, The (2000)\n",
            "4. Emperor's New Groove, The (2000)\n",
            "5. Monsters, Inc. (2001)\n",
            "6. DuckTales: The Movie - Treasure of the Lost Lamp (1990)\n",
            "7. Wild, The (2006)\n",
            "8. Shrek the Third (2007)\n",
            "9. Tale of Despereaux, The (2008)\n",
            "10. Asterix and the Vikings (Astérix et les Vikings) (2006)\n"
          ]
        }
      ],
      "source": [
        "# Example usage\n",
        "movie_title = 'Toy Story (1995)'\n",
        "get_recommendations(movie_title)"
      ]
    },
    {
      "cell_type": "code",
      "execution_count": 17,
      "metadata": {
        "colab": {
          "base_uri": "https://localhost:8080/"
        },
        "id": "NruZ7kxgf-FU",
        "outputId": "4add8e81-12e2-4e07-96dd-0da2bde9ee8b"
      },
      "outputs": [
        {
          "output_type": "stream",
          "name": "stdout",
          "text": [
            "Genre of 'GoldenEye (1995)': Action Adventure Thriller\n",
            "\n",
            "Recommended Movies:\n",
            "1. Broken Arrow (1996)\n",
            "2. Cliffhanger (1993)\n",
            "3. Executive Decision (1996)\n",
            "4. Surviving the Game (1994)\n",
            "5. Rock, The (1996)\n",
            "6. Chain Reaction (1996)\n",
            "7. Maximum Risk (1996)\n",
            "8. Die Hard 2 (1990)\n",
            "9. Anaconda (1997)\n",
            "10. Con Air (1997)\n"
          ]
        }
      ],
      "source": [
        "# Example usage\n",
        "movie_title = 'GoldenEye (1995)'\n",
        "get_recommendations(movie_title)"
      ]
    },
    {
      "cell_type": "markdown",
      "metadata": {
        "id": "qeriQYggmyqb"
      },
      "source": [
        "### Collaborative Filtering Recommendations\n"
      ]
    },
    {
      "cell_type": "markdown",
      "source": [
        "The below codes does the following:\n",
        "* It first identifies movies that have not been rated by the specified user_id by comparing the movie_Id values in the ratings DataFrame.\n",
        "\n",
        "* For each unrated movie, the function uses the trained collaborative filtering \"**model**\" to predict the rating that the user_id might give to that movie.\n",
        "The predicted ratings along with the corresponding movieId values are collected in a list.\n",
        "\n",
        "* The list of predicted ratings is sorted in descending order to identify the top-rated unrated movies. The function selects the top 10 recommended movies based on the predicted ratings.\n",
        "\n",
        "* For each recommended movieId, the function retrieves the corresponding movie title from the movies DataFrame."
      ],
      "metadata": {
        "id": "qxXew-UJlaN6"
      }
    },
    {
      "cell_type": "code",
      "execution_count": 18,
      "metadata": {
        "id": "2HoIIjUpm6Cz"
      },
      "outputs": [],
      "source": [
        "def get_collaborative_filtering_recommendations(user_id, model, movies, ratings):\n",
        "    # Get unrated movies by the user\n",
        "    rated_movies = ratings[ratings['userId'] == user_id]['movieId']\n",
        "    all_movies = ratings['movieId'].unique()\n",
        "    unrated_movies = list(set(all_movies) - set(rated_movies))\n",
        "\n",
        "    # Predict ratings for unrated movies\n",
        "    predicted_ratings = []\n",
        "    for movie_id in unrated_movies:\n",
        "        prediction = model.predict(user_id, movie_id)\n",
        "        predicted_ratings.append((prediction.est, movie_id))\n",
        "\n",
        "    # Sort predicted ratings and get top recommendations\n",
        "    predicted_ratings.sort(reverse=True, key=lambda x: x[0])\n",
        "    top_recommendations = predicted_ratings[:10]\n",
        "\n",
        "    # Get movie titles and ratings of top recommendations\n",
        "    recommendations = []\n",
        "    for rating, movie_id in top_recommendations:\n",
        "        movie_title = movies[movies['movieId'] == movie_id]['title'].values[0]\n",
        "        recommendations.append((movie_title, rating))\n",
        "\n",
        "    # Print recommended movies with ratings\n",
        "    print(\"Recommended Movies and Ratings:\")\n",
        "    for idx, (movie_title, rating) in enumerate(recommendations, 1):\n",
        "        print(f\"{idx}. {movie_title} - Rating: {rating:.2f}\")\n"
      ]
    },
    {
      "cell_type": "code",
      "source": [
        "# Example usage:\n",
        "user_id = 1  # Specify the user ID for recommendations\n",
        "get_collaborative_filtering_recommendations(user_id, model, movies, ratings)"
      ],
      "metadata": {
        "colab": {
          "base_uri": "https://localhost:8080/"
        },
        "id": "W4bRESJ3lXL1",
        "outputId": "c6b3bff8-af57-45bd-9151-f5712500da6a"
      },
      "execution_count": 19,
      "outputs": [
        {
          "output_type": "stream",
          "name": "stdout",
          "text": [
            "Recommended Movies and Ratings:\n",
            "1. Bed of Roses (1996) - Rating: 5.00\n",
            "2. Things to Do in Denver When You're Dead (1995) - Rating: 5.00\n",
            "3. Once Upon a Time... When We Were Colored (1995) - Rating: 5.00\n",
            "4. Beautiful Girls (1996) - Rating: 5.00\n",
            "5. Amateur (1994) - Rating: 5.00\n",
            "6. Blue in the Face (1995) - Rating: 5.00\n",
            "7. Speechless (1994) - Rating: 5.00\n",
            "8. Body Snatchers (1993) - Rating: 5.00\n",
            "9. Endless Summer 2, The (1994) - Rating: 5.00\n",
            "10. Fearless (1993) - Rating: 5.00\n"
          ]
        }
      ]
    },
    {
      "cell_type": "code",
      "source": [
        "# Example usage:\n",
        "user_id = 70\n",
        "get_collaborative_filtering_recommendations(user_id, model, movies, ratings)"
      ],
      "metadata": {
        "colab": {
          "base_uri": "https://localhost:8080/"
        },
        "id": "KdWaAy0hl5IE",
        "outputId": "e4502a97-5a8e-4581-ff5f-e6361ec257b9"
      },
      "execution_count": 20,
      "outputs": [
        {
          "output_type": "stream",
          "name": "stdout",
          "text": [
            "Recommended Movies and Ratings:\n",
            "1. Once Upon a Time... When We Were Colored (1995) - Rating: 5.00\n",
            "2. White Squall (1996) - Rating: 5.00\n",
            "3. Amateur (1994) - Rating: 5.00\n",
            "4. 8 Seconds (1994) - Rating: 5.00\n",
            "5. Being Human (1993) - Rating: 5.00\n",
            "6. Body Snatchers (1993) - Rating: 5.00\n",
            "7. Endless Summer 2, The (1994) - Rating: 5.00\n",
            "8. Ref, The (1994) - Rating: 5.00\n",
            "9. Song of the Little Road (Pather Panchali) (1955) - Rating: 5.00\n",
            "10. World of Apu, The (Apur Sansar) (1959) - Rating: 5.00\n"
          ]
        }
      ]
    },
    {
      "cell_type": "markdown",
      "metadata": {
        "id": "cNMqBUROnm-u"
      },
      "source": [
        "## Task 3: Evaluation and Comparison"
      ]
    },
    {
      "cell_type": "markdown",
      "source": [
        "### For content-based Recommendations"
      ],
      "metadata": {
        "id": "ReND1GgvqcQW"
      }
    },
    {
      "cell_type": "code",
      "source": [
        "import pandas as pd\n",
        "import numpy as np\n",
        "\n",
        "# Load movies and ratings data\n",
        "movies = pd.read_csv('movies.csv')\n",
        "ratings = pd.read_csv('ratings.csv')\n",
        "\n",
        "movies = movies.head(20000)\n",
        "ratings = ratings.head(20000)\n",
        "\n",
        "# Merge movies and ratings data\n",
        "merged_data = pd.merge(ratings, movies, on='movieId', how='left')\n"
      ],
      "metadata": {
        "id": "GG9x1VVl-pBU"
      },
      "execution_count": 41,
      "outputs": []
    },
    {
      "cell_type": "code",
      "source": [
        "merged_data.head()"
      ],
      "metadata": {
        "colab": {
          "base_uri": "https://localhost:8080/",
          "height": 206
        },
        "id": "bFAiMJBLBoxP",
        "outputId": "7f452b4a-939d-44fc-a99b-27f104f8edfa"
      },
      "execution_count": 42,
      "outputs": [
        {
          "output_type": "execute_result",
          "data": {
            "text/plain": [
              "   userId  movieId  rating   timestamp  \\\n",
              "0       1      296     5.0  1147880044   \n",
              "1       1      306     3.5  1147868817   \n",
              "2       1      307     5.0  1147868828   \n",
              "3       1      665     5.0  1147878820   \n",
              "4       1      899     3.5  1147868510   \n",
              "\n",
              "                                              title  \\\n",
              "0                               Pulp Fiction (1994)   \n",
              "1  Three Colors: Red (Trois couleurs: Rouge) (1994)   \n",
              "2  Three Colors: Blue (Trois couleurs: Bleu) (1993)   \n",
              "3                                Underground (1995)   \n",
              "4                        Singin' in the Rain (1952)   \n",
              "\n",
              "                        genres  \n",
              "0  Comedy|Crime|Drama|Thriller  \n",
              "1                        Drama  \n",
              "2                        Drama  \n",
              "3             Comedy|Drama|War  \n",
              "4       Comedy|Musical|Romance  "
            ],
            "text/html": [
              "\n",
              "  <div id=\"df-bb110b49-dea7-4abb-a45c-625663119b68\" class=\"colab-df-container\">\n",
              "    <div>\n",
              "<style scoped>\n",
              "    .dataframe tbody tr th:only-of-type {\n",
              "        vertical-align: middle;\n",
              "    }\n",
              "\n",
              "    .dataframe tbody tr th {\n",
              "        vertical-align: top;\n",
              "    }\n",
              "\n",
              "    .dataframe thead th {\n",
              "        text-align: right;\n",
              "    }\n",
              "</style>\n",
              "<table border=\"1\" class=\"dataframe\">\n",
              "  <thead>\n",
              "    <tr style=\"text-align: right;\">\n",
              "      <th></th>\n",
              "      <th>userId</th>\n",
              "      <th>movieId</th>\n",
              "      <th>rating</th>\n",
              "      <th>timestamp</th>\n",
              "      <th>title</th>\n",
              "      <th>genres</th>\n",
              "    </tr>\n",
              "  </thead>\n",
              "  <tbody>\n",
              "    <tr>\n",
              "      <th>0</th>\n",
              "      <td>1</td>\n",
              "      <td>296</td>\n",
              "      <td>5.0</td>\n",
              "      <td>1147880044</td>\n",
              "      <td>Pulp Fiction (1994)</td>\n",
              "      <td>Comedy|Crime|Drama|Thriller</td>\n",
              "    </tr>\n",
              "    <tr>\n",
              "      <th>1</th>\n",
              "      <td>1</td>\n",
              "      <td>306</td>\n",
              "      <td>3.5</td>\n",
              "      <td>1147868817</td>\n",
              "      <td>Three Colors: Red (Trois couleurs: Rouge) (1994)</td>\n",
              "      <td>Drama</td>\n",
              "    </tr>\n",
              "    <tr>\n",
              "      <th>2</th>\n",
              "      <td>1</td>\n",
              "      <td>307</td>\n",
              "      <td>5.0</td>\n",
              "      <td>1147868828</td>\n",
              "      <td>Three Colors: Blue (Trois couleurs: Bleu) (1993)</td>\n",
              "      <td>Drama</td>\n",
              "    </tr>\n",
              "    <tr>\n",
              "      <th>3</th>\n",
              "      <td>1</td>\n",
              "      <td>665</td>\n",
              "      <td>5.0</td>\n",
              "      <td>1147878820</td>\n",
              "      <td>Underground (1995)</td>\n",
              "      <td>Comedy|Drama|War</td>\n",
              "    </tr>\n",
              "    <tr>\n",
              "      <th>4</th>\n",
              "      <td>1</td>\n",
              "      <td>899</td>\n",
              "      <td>3.5</td>\n",
              "      <td>1147868510</td>\n",
              "      <td>Singin' in the Rain (1952)</td>\n",
              "      <td>Comedy|Musical|Romance</td>\n",
              "    </tr>\n",
              "  </tbody>\n",
              "</table>\n",
              "</div>\n",
              "    <div class=\"colab-df-buttons\">\n",
              "\n",
              "  <div class=\"colab-df-container\">\n",
              "    <button class=\"colab-df-convert\" onclick=\"convertToInteractive('df-bb110b49-dea7-4abb-a45c-625663119b68')\"\n",
              "            title=\"Convert this dataframe to an interactive table.\"\n",
              "            style=\"display:none;\">\n",
              "\n",
              "  <svg xmlns=\"http://www.w3.org/2000/svg\" height=\"24px\" viewBox=\"0 -960 960 960\">\n",
              "    <path d=\"M120-120v-720h720v720H120Zm60-500h600v-160H180v160Zm220 220h160v-160H400v160Zm0 220h160v-160H400v160ZM180-400h160v-160H180v160Zm440 0h160v-160H620v160ZM180-180h160v-160H180v160Zm440 0h160v-160H620v160Z\"/>\n",
              "  </svg>\n",
              "    </button>\n",
              "\n",
              "  <style>\n",
              "    .colab-df-container {\n",
              "      display:flex;\n",
              "      gap: 12px;\n",
              "    }\n",
              "\n",
              "    .colab-df-convert {\n",
              "      background-color: #E8F0FE;\n",
              "      border: none;\n",
              "      border-radius: 50%;\n",
              "      cursor: pointer;\n",
              "      display: none;\n",
              "      fill: #1967D2;\n",
              "      height: 32px;\n",
              "      padding: 0 0 0 0;\n",
              "      width: 32px;\n",
              "    }\n",
              "\n",
              "    .colab-df-convert:hover {\n",
              "      background-color: #E2EBFA;\n",
              "      box-shadow: 0px 1px 2px rgba(60, 64, 67, 0.3), 0px 1px 3px 1px rgba(60, 64, 67, 0.15);\n",
              "      fill: #174EA6;\n",
              "    }\n",
              "\n",
              "    .colab-df-buttons div {\n",
              "      margin-bottom: 4px;\n",
              "    }\n",
              "\n",
              "    [theme=dark] .colab-df-convert {\n",
              "      background-color: #3B4455;\n",
              "      fill: #D2E3FC;\n",
              "    }\n",
              "\n",
              "    [theme=dark] .colab-df-convert:hover {\n",
              "      background-color: #434B5C;\n",
              "      box-shadow: 0px 1px 3px 1px rgba(0, 0, 0, 0.15);\n",
              "      filter: drop-shadow(0px 1px 2px rgba(0, 0, 0, 0.3));\n",
              "      fill: #FFFFFF;\n",
              "    }\n",
              "  </style>\n",
              "\n",
              "    <script>\n",
              "      const buttonEl =\n",
              "        document.querySelector('#df-bb110b49-dea7-4abb-a45c-625663119b68 button.colab-df-convert');\n",
              "      buttonEl.style.display =\n",
              "        google.colab.kernel.accessAllowed ? 'block' : 'none';\n",
              "\n",
              "      async function convertToInteractive(key) {\n",
              "        const element = document.querySelector('#df-bb110b49-dea7-4abb-a45c-625663119b68');\n",
              "        const dataTable =\n",
              "          await google.colab.kernel.invokeFunction('convertToInteractive',\n",
              "                                                    [key], {});\n",
              "        if (!dataTable) return;\n",
              "\n",
              "        const docLinkHtml = 'Like what you see? Visit the ' +\n",
              "          '<a target=\"_blank\" href=https://colab.research.google.com/notebooks/data_table.ipynb>data table notebook</a>'\n",
              "          + ' to learn more about interactive tables.';\n",
              "        element.innerHTML = '';\n",
              "        dataTable['output_type'] = 'display_data';\n",
              "        await google.colab.output.renderOutput(dataTable, element);\n",
              "        const docLink = document.createElement('div');\n",
              "        docLink.innerHTML = docLinkHtml;\n",
              "        element.appendChild(docLink);\n",
              "      }\n",
              "    </script>\n",
              "  </div>\n",
              "\n",
              "\n",
              "<div id=\"df-301e4137-086f-4942-b12e-d4a45fc028f7\">\n",
              "  <button class=\"colab-df-quickchart\" onclick=\"quickchart('df-301e4137-086f-4942-b12e-d4a45fc028f7')\"\n",
              "            title=\"Suggest charts\"\n",
              "            style=\"display:none;\">\n",
              "\n",
              "<svg xmlns=\"http://www.w3.org/2000/svg\" height=\"24px\"viewBox=\"0 0 24 24\"\n",
              "     width=\"24px\">\n",
              "    <g>\n",
              "        <path d=\"M19 3H5c-1.1 0-2 .9-2 2v14c0 1.1.9 2 2 2h14c1.1 0 2-.9 2-2V5c0-1.1-.9-2-2-2zM9 17H7v-7h2v7zm4 0h-2V7h2v10zm4 0h-2v-4h2v4z\"/>\n",
              "    </g>\n",
              "</svg>\n",
              "  </button>\n",
              "\n",
              "<style>\n",
              "  .colab-df-quickchart {\n",
              "      --bg-color: #E8F0FE;\n",
              "      --fill-color: #1967D2;\n",
              "      --hover-bg-color: #E2EBFA;\n",
              "      --hover-fill-color: #174EA6;\n",
              "      --disabled-fill-color: #AAA;\n",
              "      --disabled-bg-color: #DDD;\n",
              "  }\n",
              "\n",
              "  [theme=dark] .colab-df-quickchart {\n",
              "      --bg-color: #3B4455;\n",
              "      --fill-color: #D2E3FC;\n",
              "      --hover-bg-color: #434B5C;\n",
              "      --hover-fill-color: #FFFFFF;\n",
              "      --disabled-bg-color: #3B4455;\n",
              "      --disabled-fill-color: #666;\n",
              "  }\n",
              "\n",
              "  .colab-df-quickchart {\n",
              "    background-color: var(--bg-color);\n",
              "    border: none;\n",
              "    border-radius: 50%;\n",
              "    cursor: pointer;\n",
              "    display: none;\n",
              "    fill: var(--fill-color);\n",
              "    height: 32px;\n",
              "    padding: 0;\n",
              "    width: 32px;\n",
              "  }\n",
              "\n",
              "  .colab-df-quickchart:hover {\n",
              "    background-color: var(--hover-bg-color);\n",
              "    box-shadow: 0 1px 2px rgba(60, 64, 67, 0.3), 0 1px 3px 1px rgba(60, 64, 67, 0.15);\n",
              "    fill: var(--button-hover-fill-color);\n",
              "  }\n",
              "\n",
              "  .colab-df-quickchart-complete:disabled,\n",
              "  .colab-df-quickchart-complete:disabled:hover {\n",
              "    background-color: var(--disabled-bg-color);\n",
              "    fill: var(--disabled-fill-color);\n",
              "    box-shadow: none;\n",
              "  }\n",
              "\n",
              "  .colab-df-spinner {\n",
              "    border: 2px solid var(--fill-color);\n",
              "    border-color: transparent;\n",
              "    border-bottom-color: var(--fill-color);\n",
              "    animation:\n",
              "      spin 1s steps(1) infinite;\n",
              "  }\n",
              "\n",
              "  @keyframes spin {\n",
              "    0% {\n",
              "      border-color: transparent;\n",
              "      border-bottom-color: var(--fill-color);\n",
              "      border-left-color: var(--fill-color);\n",
              "    }\n",
              "    20% {\n",
              "      border-color: transparent;\n",
              "      border-left-color: var(--fill-color);\n",
              "      border-top-color: var(--fill-color);\n",
              "    }\n",
              "    30% {\n",
              "      border-color: transparent;\n",
              "      border-left-color: var(--fill-color);\n",
              "      border-top-color: var(--fill-color);\n",
              "      border-right-color: var(--fill-color);\n",
              "    }\n",
              "    40% {\n",
              "      border-color: transparent;\n",
              "      border-right-color: var(--fill-color);\n",
              "      border-top-color: var(--fill-color);\n",
              "    }\n",
              "    60% {\n",
              "      border-color: transparent;\n",
              "      border-right-color: var(--fill-color);\n",
              "    }\n",
              "    80% {\n",
              "      border-color: transparent;\n",
              "      border-right-color: var(--fill-color);\n",
              "      border-bottom-color: var(--fill-color);\n",
              "    }\n",
              "    90% {\n",
              "      border-color: transparent;\n",
              "      border-bottom-color: var(--fill-color);\n",
              "    }\n",
              "  }\n",
              "</style>\n",
              "\n",
              "  <script>\n",
              "    async function quickchart(key) {\n",
              "      const quickchartButtonEl =\n",
              "        document.querySelector('#' + key + ' button');\n",
              "      quickchartButtonEl.disabled = true;  // To prevent multiple clicks.\n",
              "      quickchartButtonEl.classList.add('colab-df-spinner');\n",
              "      try {\n",
              "        const charts = await google.colab.kernel.invokeFunction(\n",
              "            'suggestCharts', [key], {});\n",
              "      } catch (error) {\n",
              "        console.error('Error during call to suggestCharts:', error);\n",
              "      }\n",
              "      quickchartButtonEl.classList.remove('colab-df-spinner');\n",
              "      quickchartButtonEl.classList.add('colab-df-quickchart-complete');\n",
              "    }\n",
              "    (() => {\n",
              "      let quickchartButtonEl =\n",
              "        document.querySelector('#df-301e4137-086f-4942-b12e-d4a45fc028f7 button');\n",
              "      quickchartButtonEl.style.display =\n",
              "        google.colab.kernel.accessAllowed ? 'block' : 'none';\n",
              "    })();\n",
              "  </script>\n",
              "</div>\n",
              "\n",
              "    </div>\n",
              "  </div>\n"
            ],
            "application/vnd.google.colaboratory.intrinsic+json": {
              "type": "dataframe",
              "variable_name": "merged_data",
              "summary": "{\n  \"name\": \"merged_data\",\n  \"rows\": 20000,\n  \"fields\": [\n    {\n      \"column\": \"userId\",\n      \"properties\": {\n        \"dtype\": \"number\",\n        \"std\": 48,\n        \"min\": 1,\n        \"max\": 166,\n        \"num_unique_values\": 166,\n        \"samples\": [\n          101,\n          137,\n          79\n        ],\n        \"semantic_type\": \"\",\n        \"description\": \"\"\n      }\n    },\n    {\n      \"column\": \"movieId\",\n      \"properties\": {\n        \"dtype\": \"number\",\n        \"std\": 33979,\n        \"min\": 1,\n        \"max\": 205106,\n        \"num_unique_values\": 4418,\n        \"samples\": [\n          464,\n          2737,\n          3910\n        ],\n        \"semantic_type\": \"\",\n        \"description\": \"\"\n      }\n    },\n    {\n      \"column\": \"rating\",\n      \"properties\": {\n        \"dtype\": \"number\",\n        \"std\": 1.0151286048103536,\n        \"min\": 0.5,\n        \"max\": 5.0,\n        \"num_unique_values\": 10,\n        \"samples\": [\n          1.0,\n          3.5,\n          3.0\n        ],\n        \"semantic_type\": \"\",\n        \"description\": \"\"\n      }\n    },\n    {\n      \"column\": \"timestamp\",\n      \"properties\": {\n        \"dtype\": \"number\",\n        \"std\": 229575744,\n        \"min\": 828708507,\n        \"max\": 1574195101,\n        \"num_unique_values\": 16057,\n        \"samples\": [\n          1573940316,\n          1167582140,\n          1149993674\n        ],\n        \"semantic_type\": \"\",\n        \"description\": \"\"\n      }\n    },\n    {\n      \"column\": \"title\",\n      \"properties\": {\n        \"dtype\": \"category\",\n        \"num_unique_values\": 4011,\n        \"samples\": [\n          \"Bedazzled (2000)\",\n          \"Parenthood (1989)\",\n          \"Sirens (1994)\"\n        ],\n        \"semantic_type\": \"\",\n        \"description\": \"\"\n      }\n    },\n    {\n      \"column\": \"genres\",\n      \"properties\": {\n        \"dtype\": \"category\",\n        \"num_unique_values\": 651,\n        \"samples\": [\n          \"Horror|Romance\",\n          \"Action|Comedy|Musical\",\n          \"Comedy|Fantasy\"\n        ],\n        \"semantic_type\": \"\",\n        \"description\": \"\"\n      }\n    }\n  ]\n}"
            }
          },
          "metadata": {},
          "execution_count": 42
        }
      ]
    },
    {
      "cell_type": "code",
      "source": [
        "merged_data.shape"
      ],
      "metadata": {
        "id": "1Cryw9e0COhu",
        "colab": {
          "base_uri": "https://localhost:8080/"
        },
        "outputId": "1e863286-f7ae-4f8a-aa99-a5acd4c5226f"
      },
      "execution_count": 43,
      "outputs": [
        {
          "output_type": "execute_result",
          "data": {
            "text/plain": [
              "(20000, 6)"
            ]
          },
          "metadata": {},
          "execution_count": 43
        }
      ]
    },
    {
      "cell_type": "code",
      "source": [
        "def prepare_test_data(merged_data):\n",
        "    test_data = {}\n",
        "\n",
        "    if merged_data.empty:\n",
        "        print(\"Error: Merged data is empty. Cannot prepare test data.\")\n",
        "        return test_data\n",
        "\n",
        "    # Group ratings by userId\n",
        "    grouped = merged_data.groupby('userId')\n",
        "\n",
        "    # Iterate over each user's ratings\n",
        "    for user_id, group in grouped:\n",
        "        # Get rated movies and ratings for the user\n",
        "        rated_movies = list(group['title'])\n",
        "        test_data[user_id] = rated_movies\n",
        "\n",
        "    return test_data"
      ],
      "metadata": {
        "id": "1cw0lxHeBoCu"
      },
      "execution_count": 44,
      "outputs": []
    },
    {
      "cell_type": "code",
      "source": [
        "# Example usage for the test_data and printing the first 2 elements of this dictionary\n",
        "test_data = prepare_test_data(merged_data)\n",
        "for idx, (key, value) in enumerate(list(test_data.items())[:2], 1):\n",
        "    print(f\"{idx}. {key}: {value}\")"
      ],
      "metadata": {
        "colab": {
          "base_uri": "https://localhost:8080/"
        },
        "id": "XkXNihXcw8pC",
        "outputId": "c9a02207-ff65-4b20-e2ab-1098a1aaa914"
      },
      "execution_count": 48,
      "outputs": [
        {
          "output_type": "stream",
          "name": "stdout",
          "text": [
            "1. 1: ['Pulp Fiction (1994)', 'Three Colors: Red (Trois couleurs: Rouge) (1994)', 'Three Colors: Blue (Trois couleurs: Bleu) (1993)', 'Underground (1995)', \"Singin' in the Rain (1952)\", 'Dirty Dancing (1987)', 'Delicatessen (1991)', 'Ran (1985)', 'Seventh Seal, The (Sjunde inseglet, Det) (1957)', 'Bridge on the River Kwai, The (1957)', 'M (1931)', 'Gattaca (1997)', 'Back to the Future Part II (1989)', 'Back to the Future Part III (1990)', 'Fanny and Alexander (Fanny och Alexander) (1982)', 'NeverEnding Story, The (1984)', 'Nights of Cabiria (Notti di Cabiria, Le) (1957)', 'Tango (1998)', 'Saragossa Manuscript, The (Rekopis znaleziony w Saragossie) (1965)', 'Run Lola Run (Lola rennt) (1998)', 'Black Cat, White Cat (Crna macka, beli macor) (1998)', 'Good Morning, Vietnam (1987)', 'Idiots, The (Idioterne) (1998)', 'Requiem for a Dream (2000)', 'In the Mood For Love (Fa yeung nin wa) (2000)', 'Moulin Rouge (2001)', 'Night, The (Notte, La) (1960)', 'Cries and Whispers (Viskningar och rop) (1972)', 'Chocolat (1988)', \"Amelie (Fabuleux destin d'Amélie Poulain, Le) (2001)\", 'Wild Strawberries (Smultronstället) (1957)', 'Piano Teacher, The (La pianiste) (2001)', 'Naqoyqatsi (2002)', 'Teddy Bear (Mis) (1981)', 'Talk to Her (Hable con Ella) (2002)', 'Hit the Bank (Vabank) (1981)', 'Lord of the Rings: The Two Towers, The (2002)', 'City of God (Cidade de Deus) (2002)', \"Spanish Apartment, The (L'auberge espagnole) (2002)\", 'Finding Nemo (2003)', 'Pirates of the Caribbean: The Curse of the Black Pearl (2003)', 'Lost in Translation (2003)', 'Barbarian Invasions, The (Les invasions barbares) (2003)', \"M. Hulot’s Holiday (Mr. Hulot's Holiday) (Vacances de Monsieur Hulot, Les) (1953)\", 'Strada, La (1954)', 'Passion of the Christ, The (2004)', 'Good bye, Lenin! (2003)', 'Persona (1966)', 'Eternal Sunshine of the Spotless Mind (2004)', 'Noi the Albino (Nói albinói) (2003)', 'Virgin Spring, The (Jungfrukällan) (1960)', 'Silence, The (Tystnaden) (1963)', 'Winter Light (Nattvardsgästerna) (1963)', 'Through a Glass Darkly (Såsom i en spegel) (1961)', 'The Magician (1958)', 'Spring, Summer, Fall, Winter... and Spring (Bom yeoreum gaeul gyeoul geurigo bom) (2003)', 'Dolce Vita, La (1960)', 'Dolls (2002)', 'Shrek 2 (2004)', 'Hour of the Wolf (Vargtimmen) (1968)', 'Miracle of Marcelino, The (Marcelino pan y vino) (1955)', 'Swann in Love (Un amour de Swann) (1984)', 'Port of Shadows (Quai des brumes) (1938)', 'Motorcycle Diaries, The (Diarios de motocicleta) (2004)', 'Bad Education (La mala educación) (2004)', 'Taxi 2 (2000)', '2046 (2004)', 'Very Long Engagement, A (Un long dimanche de fiançailles) (2004)', '5x2 (2004)', 'Look at Me (Comme une image) (2004)']\n",
            "2. 2: ['Toy Story (1995)', \"Mr. Holland's Opus (1995)\", 'Braveheart (1995)', 'Apollo 13 (1995)', 'Rob Roy (1995)', 'French Kiss (1995)', 'Star Wars: Episode IV - A New Hope (1977)', 'Little Women (1994)', 'Legends of the Fall (1994)', 'Shawshank Redemption, The (1994)', 'Tommy Boy (1995)', 'Clear and Present Danger (1994)', 'Forrest Gump (1994)', 'Lion King, The (1994)', 'True Lies (1994)', 'Fugitive, The (1993)', 'Jurassic Park (1993)', 'Much Ado About Nothing (1993)', 'Rudy (1993)', \"Schindler's List (1993)\", 'Shadowlands (1993)', 'Tombstone (1993)', 'Aladdin (1992)', 'Terminator 2: Judgment Day (1991)', 'Dragonheart (1996)', 'Rock, The (1996)', 'Godfather, The (1972)', 'My Fair Lady (1964)', \"It's a Wonderful Life (1946)\", 'Sound of Music, The (1965)', \"Monty Python's Life of Brian (1979)\", 'Monty Python and the Holy Grail (1975)', 'Star Wars: Episode V - The Empire Strikes Back (1980)', 'Princess Bride, The (1987)', 'Raiders of the Lost Ark (Indiana Jones and the Raiders of the Lost Ark) (1981)', 'Good, the Bad and the Ugly, The (Buono, il brutto, il cattivo, Il) (1966)', 'Star Wars: Episode VI - Return of the Jedi (1983)', 'Dead Poets Society (1989)', 'Better Off Dead... (1985)', 'Back to the Future (1985)', 'Fried Green Tomatoes (1991)', 'Highlander (1986)', 'High Noon (1952)', 'Ben-Hur (1959)', 'Indiana Jones and the Last Crusade (1989)', 'Gandhi (1982)', 'Killing Fields, The (1984)', 'Field of Dreams (1989)', 'Star Trek: First Contact (1996)', 'Star Trek II: The Wrath of Khan (1982)', 'Star Trek IV: The Voyage Home (1986)', 'Jerry Maguire (1996)', 'Beverly Hills Ninja (1997)', 'Rosewood (1997)', 'Liar Liar (1997)', \"Devil's Own, The (1997)\", 'Fifth Element, The (1997)', 'Men in Black (a.k.a. MIB) (1997)', 'Contact (1997)', 'Conan the Barbarian (1982)', 'Hunt for Red October, The (1990)', 'Gattaca (1997)', 'Rainmaker, The (1997)', 'Witness (1985)', 'Truman Show, The (1998)', 'Amistad (1997)', 'Tomorrow Never Dies (1997)', 'Misérables, Les (1998)', 'Mulan (1998)', \"There's Something About Mary (1998)\", 'Chariots of Fire (1981)', 'Breakfast Club, The (1985)', 'Saving Private Ryan (1998)', 'Little Mermaid, The (1989)', 'Muppet Christmas Carol, The (1992)', 'Indiana Jones and the Temple of Doom (1984)', 'Watership Down (1978)', 'Secret of NIMH, The (1982)', 'Gods Must Be Crazy, The (1980)', 'Untouchables, The (1987)', 'Few Good Men, A (1992)', 'Rush Hour (1998)', 'Antz (1998)', 'Life Is Beautiful (La Vita è bella) (1997)', \"Bug's Life, A (1998)\", 'Waking Ned Devine (a.k.a. Waking Ned) (1998)', 'Romancing the Stone (1984)', 'Crocodile Dundee (1986)', 'Blast from the Past (1999)', 'October Sky (1999)', 'Matrix, The (1999)', 'Mummy, The (1999)', 'Superman (1978)', 'Superman IV: The Quest for Peace (1987)', 'Big Daddy (1999)', 'Inspector Gadget (1999)', 'Mission, The (1986)', 'Iron Giant, The (1999)', 'Sixth Sense, The (1999)', 'Big (1988)', \"Ferris Bueller's Day Off (1986)\", 'Who Framed Roger Rabbit? (1988)', 'Natural, The (1984)', 'Awakenings (1990)', 'Backdraft (1991)', 'Toy Story 2 (1999)', 'Cider House Rules, The (1999)', 'Galaxy Quest (1999)', 'Hoosiers (a.k.a. Best Shot) (1986)', 'Muppet Movie, The (1979)', 'Ladyhawke (1985)', 'Frequency (2000)', 'Gladiator (2000)', 'X-Men (2000)', 'Highlander: Endgame (Highlander IV) (2000)', 'Remember the Titans (2000)', 'Meet the Parents (2000)', 'Unbreakable (2000)', \"Emperor's New Groove, The (2000)\", 'Finding Forrester (2000)', 'Cast Away (2000)', 'Family Man, The (2000)', 'Empire of the Sun (1987)', \"Knight's Tale, A (2001)\", 'Shrek (2001)', 'Man from Snowy River, The (1982)', \"Bill & Ted's Excellent Adventure (1989)\", 'Others, The (2001)', 'Fiddler on the Roof (1971)', 'K-PAX (2001)', 'Monsters, Inc. (2001)', \"Harry Potter and the Sorcerer's Stone (a.k.a. Harry Potter and the Philosopher's Stone) (2001)\", \"Ocean's Eleven (2001)\", 'Lord of the Rings: The Fellowship of the Ring, The (2001)', 'Beautiful Mind, A (2001)', 'Black Hawk Down (2001)', 'Sandlot, The (1993)', 'Spider-Man (2002)', 'Bourne Identity, The (2002)', 'Minority Report (2002)', 'Transporter, The (2002)', 'Harry Potter and the Chamber of Secrets (2002)', 'Lord of the Rings: The Two Towers, The (2002)', 'Antwone Fisher (2002)', 'Shanghai Knights (2003)', 'Daredevil (2003)', 'Tears of the Sun (2003)', 'Anger Management (2003)', 'Other Side of Heaven, The (2001)', 'X2: X-Men United (2003)', 'Pirates of the Caribbean: The Curse of the Black Pearl (2003)', 'Seabiscuit (2003)', 'Secondhand Lions (2003)', 'Runaway Jury (2003)', 'Master and Commander: The Far Side of the World (2003)', 'Kindergarten Cop (1990)', 'Last Boy Scout, The (1991)', 'Court Jester, The (1956)', 'Hero (Ying xiong) (2002)', 'Last Samurai, The (2003)', 'Lord of the Rings: The Return of the King, The (2003)', 'Cold Mountain (2003)', 'Ten Commandments, The (1956)', 'School Ties (1992)', 'Power of One, The (1992)', 'Shrek 2 (2004)', 'Harry Potter and the Prisoner of Azkaban (2004)', 'Spider-Man 2 (2004)', 'Bourne Supremacy, The (2004)', 'Ray (2004)', 'Incredibles, The (2004)', 'Finding Neverland (2004)', 'Interpreter, The (2005)', 'Hotel Rwanda (2004)', 'Love Song for Bobby Long, A (2004)', 'Three Musketeers, The (1973)', 'Crash (2004)', 'Star Wars: Episode III - Revenge of the Sith (2005)', 'Cinderella Man (2005)', 'Batman Begins (2005)', 'Wedding Crashers (2005)', '40-Year-Old Virgin, The (2005)', 'Proof (2005)', 'Harry Potter and the Goblet of Fire (2005)']\n"
          ]
        }
      ]
    },
    {
      "cell_type": "code",
      "execution_count": 50,
      "metadata": {
        "id": "TPsTbF7aba5A"
      },
      "outputs": [],
      "source": [
        "import numpy as np\n",
        "\n",
        "def evaluate_content_based_recommender(test_data, get_recommendations_func):\n",
        "    precision_scores = []\n",
        "    recall_scores = []\n",
        "\n",
        "    for user_id, rated_movies in test_data.items():\n",
        "        # Initialize sets to store all rated and recommended movies for the user\n",
        "        all_rated_movies = set(rated_movies)\n",
        "        all_recommended_movies = set()\n",
        "\n",
        "        # Generate recommendations based on each rated movie\n",
        "        for movie_title in rated_movies:\n",
        "            recommendations = get_recommendations_func(movie_title)\n",
        "            if recommendations is not None:\n",
        "                all_recommended_movies.update(recommendations)\n",
        "\n",
        "        # Compute precision and recall based on all rated and recommended movies\n",
        "        relevant_and_recommended = all_rated_movies.intersection(all_recommended_movies)\n",
        "        precision = len(relevant_and_recommended) / len(all_recommended_movies) if len(all_recommended_movies) > 0 else 0\n",
        "        recall = len(relevant_and_recommended) / len(all_rated_movies) if len(all_rated_movies) > 0 else 0\n",
        "\n",
        "        precision_scores.append(precision)\n",
        "        recall_scores.append(recall)\n",
        "\n",
        "    # Calculate mean precision and recall\n",
        "    mean_precision = np.mean(precision_scores)\n",
        "    mean_recall = np.mean(recall_scores)\n",
        "\n",
        "    return mean_precision, mean_recall\n"
      ]
    },
    {
      "cell_type": "code",
      "source": [
        "def get_content_recommendation(movie_title, cosine_sim=cosine_sim, movies=movies):\n",
        "    # Check if movies DataFrame is empty\n",
        "    if movies.empty:\n",
        "        print(\"Error: Movies DataFrame is empty.\")\n",
        "        return None\n",
        "\n",
        "    try:\n",
        "        # Get movie index\n",
        "        movie_index = movies.index[movies['title'] == movie_title].tolist()[0]\n",
        "\n",
        "        # Get similarity scores for the movie\n",
        "        sim_scores = list(enumerate(cosine_sim[movie_index]))\n",
        "        sim_scores = sorted(sim_scores, key=lambda x: x[1], reverse=True)\n",
        "        sim_scores = sim_scores[1:11]  # Top 10 similar movies\n",
        "\n",
        "        # Get indices of recommended movies\n",
        "        recommended_movie_indices = [i[0] for i in sim_scores]\n",
        "\n",
        "        # Collect recommended movie titles in a list\n",
        "        recommended_movies = [movies.loc[movie_idx, 'title'] for movie_idx in recommended_movie_indices]\n",
        "\n",
        "        return recommended_movies\n",
        "\n",
        "    except IndexError:\n",
        "        # print(f\"Error: Movie title '{movie_title}' not found in the movies DataFrame.\")\n",
        "        return None\n"
      ],
      "metadata": {
        "id": "cBttjszA30OP"
      },
      "execution_count": 56,
      "outputs": []
    },
    {
      "cell_type": "code",
      "source": [
        "mean_precision, mean_recall = evaluate_content_based_recommender(test_data, get_content_recommendation)\n",
        "print(f\"Mean Precision: {mean_precision:.4f}\")\n",
        "print(f\"Mean Recall: {mean_recall:.4f}\")"
      ],
      "metadata": {
        "id": "h5pLR5T0BSQg",
        "colab": {
          "base_uri": "https://localhost:8080/"
        },
        "outputId": "ad6ce6e3-61ef-454f-ecff-e13a77db5fa8"
      },
      "execution_count": 57,
      "outputs": [
        {
          "output_type": "stream",
          "name": "stdout",
          "text": [
            "Mean Precision: 0.0672\n",
            "Mean Recall: 0.3862\n"
          ]
        }
      ]
    },
    {
      "cell_type": "markdown",
      "source": [
        "### For Collabarative filtering-based Recommendations"
      ],
      "metadata": {
        "id": "mEG8Ragqqp8G"
      }
    },
    {
      "cell_type": "markdown",
      "source": [
        "Using **Root mean square error** loss function for evaluation:\n",
        "* RMSE < 1: Typically considered very good, indicating accurate predictions with small errors.\n",
        "\n",
        "* 1 ≤ RMSE < 2: Reasonable performance, with predictions somewhat close to actual ratings.\n",
        "\n",
        "* RMSE ≥ 2: May indicate poor performance, with predictions significantly deviating from actual ratings."
      ],
      "metadata": {
        "id": "GWtEs_u3qHyw"
      }
    },
    {
      "cell_type": "code",
      "execution_count": 58,
      "metadata": {
        "colab": {
          "base_uri": "https://localhost:8080/"
        },
        "id": "GyKWKaFqsfG2",
        "outputId": "4fbd461d-f28c-4500-cf11-3a4c4d2cba75"
      },
      "outputs": [
        {
          "output_type": "stream",
          "name": "stdout",
          "text": [
            "RMSE: 1.0267\n"
          ]
        },
        {
          "output_type": "execute_result",
          "data": {
            "text/plain": [
              "1.026719819746358"
            ]
          },
          "metadata": {},
          "execution_count": 58
        }
      ],
      "source": [
        "# Make predictions\n",
        "predictions = model.test(testset)\n",
        "\n",
        "# Evaluate model\n",
        "accuracy.rmse(predictions)\n"
      ]
    },
    {
      "cell_type": "markdown",
      "source": [
        "Therefore, our Collabarative filtering-based Recommendations system is making somewhat **Reasonable Predictions** which are **close to actual ratings**\n",
        "\n"
      ],
      "metadata": {
        "id": "YQ8IbDGYrF_n"
      }
    },
    {
      "cell_type": "markdown",
      "source": [
        "### Comparing the Recommendation Systems"
      ],
      "metadata": {
        "id": "lFTfX3onrYj2"
      }
    },
    {
      "cell_type": "code",
      "execution_count": null,
      "metadata": {
        "id": "z2DlAUSFoEJB"
      },
      "outputs": [],
      "source": [
        "# Compare Systems\n",
        "def compare_recommendation_systems(user_id, actual_ratings):\n",
        "    # Evaluate collaborative filtering\n",
        "    precision_cf, recall_cf, f1_score_cf = evaluate_content_based(user_id, actual_ratings)\n",
        "\n",
        "    # Evaluate content-based filtering\n",
        "    precision_cb, recall_cb, f1_score_cb = evaluate_collaborative_filtering(user_id, actual_ratings)\n",
        "\n",
        "    # Print results\n",
        "    print(\"Collaborative Filtering Metrics:\")\n",
        "    print(f\"Precision: {precision_cf:.4f}, Recall: {recall_cf:.4f}, F1-Score: {f1_score_cf:.4f}\")\n",
        "\n",
        "    print(\"\\nContent-Based Filtering Metrics:\")\n",
        "    print(f\"Precision: {precision_cb:.4f}, Recall: {recall_cb:.4f}, F1-Score: {f1_score_cb:.4f}\")\n",
        "\n",
        "# Example Usage\n",
        "user_id = 1  # Specify the user for evaluation\n",
        "actual_user_ratings = ratings  # Use actual ratings for evaluation\n",
        "\n",
        "# Compare recommendation systems\n",
        "compare_recommendation_systems(user_id, actual_user_ratings)"
      ]
    }
  ],
  "metadata": {
    "colab": {
      "provenance": []
    },
    "kernelspec": {
      "display_name": "Python 3",
      "name": "python3"
    },
    "language_info": {
      "name": "python"
    }
  },
  "nbformat": 4,
  "nbformat_minor": 0
}